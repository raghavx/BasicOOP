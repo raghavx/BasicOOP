{
  "nbformat": 4,
  "nbformat_minor": 0,
  "metadata": {
    "colab": {
      "provenance": [],
      "authorship_tag": "ABX9TyMf89soP2H1zUPA7kGNKQPP",
      "include_colab_link": true
    },
    "kernelspec": {
      "name": "python3",
      "display_name": "Python 3"
    },
    "language_info": {
      "name": "python"
    }
  },
  "cells": [
    {
      "cell_type": "markdown",
      "metadata": {
        "id": "view-in-github",
        "colab_type": "text"
      },
      "source": [
        "<a href=\"https://colab.research.google.com/github/raghavx/BasicOOP/blob/master/01_train.ipynb\" target=\"_parent\"><img src=\"https://colab.research.google.com/assets/colab-badge.svg\" alt=\"Open In Colab\"/></a>"
      ]
    },
    {
      "cell_type": "code",
      "execution_count": 46,
      "metadata": {
        "colab": {
          "base_uri": "https://localhost:8080/"
        },
        "id": "SZszG9MOWWiz",
        "outputId": "dae41636-f230-4e2a-d87a-8df5ddd4268e"
      },
      "outputs": [
        {
          "output_type": "stream",
          "name": "stdout",
          "text": [
            "2.9.2\n"
          ]
        }
      ],
      "source": [
        "import tensorflow as tf\n",
        "print(tf.__version__)"
      ]
    },
    {
      "cell_type": "code",
      "source": [],
      "metadata": {
        "id": "roNgWBmwYZ78"
      },
      "execution_count": 46,
      "outputs": []
    },
    {
      "cell_type": "code",
      "source": [
        "X = tf.constant([1.0,2.0,3.0,4.0,5.0,6.0,2.0,3.0,4.0,5.0,6.0])\n",
        "y = tf.constant([11.0,12.0,13.0,14.0,15.0,16.0,12.0,13.0,14.0,15.0,16.0])\n",
        "X,y"
      ],
      "metadata": {
        "colab": {
          "base_uri": "https://localhost:8080/"
        },
        "id": "08YSGiZMWgrp",
        "outputId": "d3519c85-18e4-4f5c-fafa-6e12a97511d3"
      },
      "execution_count": 47,
      "outputs": [
        {
          "output_type": "execute_result",
          "data": {
            "text/plain": [
              "(<tf.Tensor: shape=(11,), dtype=float32, numpy=array([1., 2., 3., 4., 5., 6., 2., 3., 4., 5., 6.], dtype=float32)>,\n",
              " <tf.Tensor: shape=(11,), dtype=float32, numpy=\n",
              " array([11., 12., 13., 14., 15., 16., 12., 13., 14., 15., 16.],\n",
              "       dtype=float32)>)"
            ]
          },
          "metadata": {},
          "execution_count": 47
        }
      ]
    },
    {
      "cell_type": "code",
      "source": [
        "model = tf.keras.Sequential()\n",
        "model.add(tf.keras.layers.Dense(50, activation=None))\n",
        "model.add(tf.keras.layers.Dense(1, activation=None))\n",
        "model.compile(loss=\"mae\" ,optimizer=tf.keras.optimizers.Adam(learning_rate=0.01), metrics=[\"mae\"])\n",
        "model.fit(x=tf.expand_dims(X, axis=-1),y=y,epochs=100)\n",
        "\n"
      ],
      "metadata": {
        "colab": {
          "base_uri": "https://localhost:8080/"
        },
        "id": "lk3FX0PbYa-W",
        "outputId": "8294d891-4538-454d-af7f-6f1725df03df"
      },
      "execution_count": 48,
      "outputs": [
        {
          "output_type": "stream",
          "name": "stdout",
          "text": [
            "Epoch 1/100\n",
            "1/1 [==============================] - 0s 396ms/step - loss: 13.2797 - mae: 13.2797\n",
            "Epoch 2/100\n",
            "1/1 [==============================] - 0s 10ms/step - loss: 12.5613 - mae: 12.5613\n",
            "Epoch 3/100\n",
            "1/1 [==============================] - 0s 9ms/step - loss: 11.8396 - mae: 11.8396\n",
            "Epoch 4/100\n",
            "1/1 [==============================] - 0s 8ms/step - loss: 11.1136 - mae: 11.1136\n",
            "Epoch 5/100\n",
            "1/1 [==============================] - 0s 12ms/step - loss: 10.3815 - mae: 10.3815\n",
            "Epoch 6/100\n",
            "1/1 [==============================] - 0s 10ms/step - loss: 9.6407 - mae: 9.6407\n",
            "Epoch 7/100\n",
            "1/1 [==============================] - 0s 12ms/step - loss: 8.8882 - mae: 8.8882\n",
            "Epoch 8/100\n",
            "1/1 [==============================] - 0s 11ms/step - loss: 8.1210 - mae: 8.1210\n",
            "Epoch 9/100\n",
            "1/1 [==============================] - 0s 11ms/step - loss: 7.3358 - mae: 7.3358\n",
            "Epoch 10/100\n",
            "1/1 [==============================] - 0s 7ms/step - loss: 6.5294 - mae: 6.5294\n",
            "Epoch 11/100\n",
            "1/1 [==============================] - 0s 14ms/step - loss: 5.6986 - mae: 5.6986\n",
            "Epoch 12/100\n",
            "1/1 [==============================] - 0s 9ms/step - loss: 4.8407 - mae: 4.8407\n",
            "Epoch 13/100\n",
            "1/1 [==============================] - 0s 11ms/step - loss: 3.9529 - mae: 3.9529\n",
            "Epoch 14/100\n",
            "1/1 [==============================] - 0s 17ms/step - loss: 3.1805 - mae: 3.1805\n",
            "Epoch 15/100\n",
            "1/1 [==============================] - 0s 12ms/step - loss: 2.7975 - mae: 2.7975\n",
            "Epoch 16/100\n",
            "1/1 [==============================] - 0s 8ms/step - loss: 2.8133 - mae: 2.8133\n",
            "Epoch 17/100\n",
            "1/1 [==============================] - 0s 8ms/step - loss: 2.8540 - mae: 2.8540\n",
            "Epoch 18/100\n",
            "1/1 [==============================] - 0s 7ms/step - loss: 3.1054 - mae: 3.1054\n",
            "Epoch 19/100\n",
            "1/1 [==============================] - 0s 13ms/step - loss: 3.2983 - mae: 3.2983\n",
            "Epoch 20/100\n",
            "1/1 [==============================] - 0s 10ms/step - loss: 3.4368 - mae: 3.4368\n",
            "Epoch 21/100\n",
            "1/1 [==============================] - 0s 7ms/step - loss: 3.5257 - mae: 3.5257\n",
            "Epoch 22/100\n",
            "1/1 [==============================] - 0s 8ms/step - loss: 3.5696 - mae: 3.5696\n",
            "Epoch 23/100\n",
            "1/1 [==============================] - 0s 8ms/step - loss: 3.5733 - mae: 3.5733\n",
            "Epoch 24/100\n",
            "1/1 [==============================] - 0s 7ms/step - loss: 3.5412 - mae: 3.5412\n",
            "Epoch 25/100\n",
            "1/1 [==============================] - 0s 7ms/step - loss: 3.4778 - mae: 3.4778\n",
            "Epoch 26/100\n",
            "1/1 [==============================] - 0s 14ms/step - loss: 3.3871 - mae: 3.3871\n",
            "Epoch 27/100\n",
            "1/1 [==============================] - 0s 8ms/step - loss: 3.2729 - mae: 3.2729\n",
            "Epoch 28/100\n",
            "1/1 [==============================] - 0s 8ms/step - loss: 3.1388 - mae: 3.1388\n",
            "Epoch 29/100\n",
            "1/1 [==============================] - 0s 7ms/step - loss: 2.9879 - mae: 2.9879\n",
            "Epoch 30/100\n",
            "1/1 [==============================] - 0s 7ms/step - loss: 2.8231 - mae: 2.8231\n",
            "Epoch 31/100\n",
            "1/1 [==============================] - 0s 8ms/step - loss: 2.6522 - mae: 2.6522\n",
            "Epoch 32/100\n",
            "1/1 [==============================] - 0s 9ms/step - loss: 2.6313 - mae: 2.6313\n",
            "Epoch 33/100\n",
            "1/1 [==============================] - 0s 7ms/step - loss: 2.6105 - mae: 2.6105\n",
            "Epoch 34/100\n",
            "1/1 [==============================] - 0s 10ms/step - loss: 2.5897 - mae: 2.5897\n",
            "Epoch 35/100\n",
            "1/1 [==============================] - 0s 9ms/step - loss: 2.5690 - mae: 2.5690\n",
            "Epoch 36/100\n",
            "1/1 [==============================] - 0s 11ms/step - loss: 2.5592 - mae: 2.5592\n",
            "Epoch 37/100\n",
            "1/1 [==============================] - 0s 14ms/step - loss: 2.6067 - mae: 2.6067\n",
            "Epoch 38/100\n",
            "1/1 [==============================] - 0s 7ms/step - loss: 2.6129 - mae: 2.6129\n",
            "Epoch 39/100\n",
            "1/1 [==============================] - 0s 7ms/step - loss: 2.5821 - mae: 2.5821\n",
            "Epoch 40/100\n",
            "1/1 [==============================] - 0s 7ms/step - loss: 2.5180 - mae: 2.5180\n",
            "Epoch 41/100\n",
            "1/1 [==============================] - 0s 14ms/step - loss: 2.4556 - mae: 2.4556\n",
            "Epoch 42/100\n",
            "1/1 [==============================] - 0s 6ms/step - loss: 2.4373 - mae: 2.4373\n",
            "Epoch 43/100\n",
            "1/1 [==============================] - 0s 6ms/step - loss: 2.4186 - mae: 2.4186\n",
            "Epoch 44/100\n",
            "1/1 [==============================] - 0s 6ms/step - loss: 2.3992 - mae: 2.3992\n",
            "Epoch 45/100\n",
            "1/1 [==============================] - 0s 7ms/step - loss: 2.3794 - mae: 2.3794\n",
            "Epoch 46/100\n",
            "1/1 [==============================] - 0s 7ms/step - loss: 2.3590 - mae: 2.3590\n",
            "Epoch 47/100\n",
            "1/1 [==============================] - 0s 12ms/step - loss: 2.3381 - mae: 2.3381\n",
            "Epoch 48/100\n",
            "1/1 [==============================] - 0s 6ms/step - loss: 2.3167 - mae: 2.3167\n",
            "Epoch 49/100\n",
            "1/1 [==============================] - 0s 6ms/step - loss: 2.2948 - mae: 2.2948\n",
            "Epoch 50/100\n",
            "1/1 [==============================] - 0s 6ms/step - loss: 2.2724 - mae: 2.2724\n",
            "Epoch 51/100\n",
            "1/1 [==============================] - 0s 6ms/step - loss: 2.2496 - mae: 2.2496\n",
            "Epoch 52/100\n",
            "1/1 [==============================] - 0s 7ms/step - loss: 2.2262 - mae: 2.2262\n",
            "Epoch 53/100\n",
            "1/1 [==============================] - 0s 7ms/step - loss: 2.2024 - mae: 2.2024\n",
            "Epoch 54/100\n",
            "1/1 [==============================] - 0s 7ms/step - loss: 2.1781 - mae: 2.1781\n",
            "Epoch 55/100\n",
            "1/1 [==============================] - 0s 6ms/step - loss: 2.1597 - mae: 2.1597\n",
            "Epoch 56/100\n",
            "1/1 [==============================] - 0s 7ms/step - loss: 2.1287 - mae: 2.1287\n",
            "Epoch 57/100\n",
            "1/1 [==============================] - 0s 13ms/step - loss: 2.1037 - mae: 2.1037\n",
            "Epoch 58/100\n",
            "1/1 [==============================] - 0s 8ms/step - loss: 2.0781 - mae: 2.0781\n",
            "Epoch 59/100\n",
            "1/1 [==============================] - 0s 7ms/step - loss: 2.0521 - mae: 2.0521\n",
            "Epoch 60/100\n",
            "1/1 [==============================] - 0s 18ms/step - loss: 2.0255 - mae: 2.0255\n",
            "Epoch 61/100\n",
            "1/1 [==============================] - 0s 14ms/step - loss: 1.9983 - mae: 1.9983\n",
            "Epoch 62/100\n",
            "1/1 [==============================] - 0s 7ms/step - loss: 1.9706 - mae: 1.9706\n",
            "Epoch 63/100\n",
            "1/1 [==============================] - 0s 7ms/step - loss: 1.9422 - mae: 1.9422\n",
            "Epoch 64/100\n",
            "1/1 [==============================] - 0s 11ms/step - loss: 1.9132 - mae: 1.9132\n",
            "Epoch 65/100\n",
            "1/1 [==============================] - 0s 8ms/step - loss: 1.8834 - mae: 1.8834\n",
            "Epoch 66/100\n",
            "1/1 [==============================] - 0s 8ms/step - loss: 1.8529 - mae: 1.8529\n",
            "Epoch 67/100\n",
            "1/1 [==============================] - 0s 10ms/step - loss: 1.8216 - mae: 1.8216\n",
            "Epoch 68/100\n",
            "1/1 [==============================] - 0s 8ms/step - loss: 1.7895 - mae: 1.7895\n",
            "Epoch 69/100\n",
            "1/1 [==============================] - 0s 14ms/step - loss: 1.7565 - mae: 1.7565\n",
            "Epoch 70/100\n",
            "1/1 [==============================] - 0s 7ms/step - loss: 1.7225 - mae: 1.7225\n",
            "Epoch 71/100\n",
            "1/1 [==============================] - 0s 7ms/step - loss: 1.6876 - mae: 1.6876\n",
            "Epoch 72/100\n",
            "1/1 [==============================] - 0s 8ms/step - loss: 1.6516 - mae: 1.6516\n",
            "Epoch 73/100\n",
            "1/1 [==============================] - 0s 10ms/step - loss: 1.6183 - mae: 1.6183\n",
            "Epoch 74/100\n",
            "1/1 [==============================] - 0s 8ms/step - loss: 1.5783 - mae: 1.5783\n",
            "Epoch 75/100\n",
            "1/1 [==============================] - 0s 9ms/step - loss: 1.5408 - mae: 1.5408\n",
            "Epoch 76/100\n",
            "1/1 [==============================] - 0s 12ms/step - loss: 1.5020 - mae: 1.5020\n",
            "Epoch 77/100\n",
            "1/1 [==============================] - 0s 8ms/step - loss: 1.4617 - mae: 1.4617\n",
            "Epoch 78/100\n",
            "1/1 [==============================] - 0s 8ms/step - loss: 1.4200 - mae: 1.4200\n",
            "Epoch 79/100\n",
            "1/1 [==============================] - 0s 13ms/step - loss: 1.3767 - mae: 1.3767\n",
            "Epoch 80/100\n",
            "1/1 [==============================] - 0s 7ms/step - loss: 1.3318 - mae: 1.3318\n",
            "Epoch 81/100\n",
            "1/1 [==============================] - 0s 8ms/step - loss: 1.2851 - mae: 1.2851\n",
            "Epoch 82/100\n",
            "1/1 [==============================] - 0s 8ms/step - loss: 1.2367 - mae: 1.2367\n",
            "Epoch 83/100\n",
            "1/1 [==============================] - 0s 12ms/step - loss: 1.1863 - mae: 1.1863\n",
            "Epoch 84/100\n",
            "1/1 [==============================] - 0s 8ms/step - loss: 1.1340 - mae: 1.1340\n",
            "Epoch 85/100\n",
            "1/1 [==============================] - 0s 8ms/step - loss: 1.0797 - mae: 1.0797\n",
            "Epoch 86/100\n",
            "1/1 [==============================] - 0s 12ms/step - loss: 1.0231 - mae: 1.0231\n",
            "Epoch 87/100\n",
            "1/1 [==============================] - 0s 8ms/step - loss: 0.9644 - mae: 0.9644\n",
            "Epoch 88/100\n",
            "1/1 [==============================] - 0s 8ms/step - loss: 0.9032 - mae: 0.9032\n",
            "Epoch 89/100\n",
            "1/1 [==============================] - 0s 12ms/step - loss: 0.8396 - mae: 0.8396\n",
            "Epoch 90/100\n",
            "1/1 [==============================] - 0s 7ms/step - loss: 0.7735 - mae: 0.7735\n",
            "Epoch 91/100\n",
            "1/1 [==============================] - 0s 8ms/step - loss: 0.7046 - mae: 0.7046\n",
            "Epoch 92/100\n",
            "1/1 [==============================] - 0s 13ms/step - loss: 0.6330 - mae: 0.6330\n",
            "Epoch 93/100\n",
            "1/1 [==============================] - 0s 8ms/step - loss: 0.5585 - mae: 0.5585\n",
            "Epoch 94/100\n",
            "1/1 [==============================] - 0s 8ms/step - loss: 0.4913 - mae: 0.4913\n",
            "Epoch 95/100\n",
            "1/1 [==============================] - 0s 8ms/step - loss: 0.4034 - mae: 0.4034\n",
            "Epoch 96/100\n",
            "1/1 [==============================] - 0s 13ms/step - loss: 0.3644 - mae: 0.3644\n",
            "Epoch 97/100\n",
            "1/1 [==============================] - 0s 7ms/step - loss: 0.2933 - mae: 0.2933\n",
            "Epoch 98/100\n",
            "1/1 [==============================] - 0s 7ms/step - loss: 0.1634 - mae: 0.1634\n",
            "Epoch 99/100\n",
            "1/1 [==============================] - 0s 7ms/step - loss: 0.2729 - mae: 0.2729\n",
            "Epoch 100/100\n",
            "1/1 [==============================] - 0s 10ms/step - loss: 0.0800 - mae: 0.0800\n"
          ]
        },
        {
          "output_type": "execute_result",
          "data": {
            "text/plain": [
              "<keras.callbacks.History at 0x7f11bb0a1e80>"
            ]
          },
          "metadata": {},
          "execution_count": 48
        }
      ]
    },
    {
      "cell_type": "code",
      "source": [
        "model.predict([8.0])"
      ],
      "metadata": {
        "colab": {
          "base_uri": "https://localhost:8080/"
        },
        "id": "TySv2-kpZbWA",
        "outputId": "5a1eb7d9-e58e-4af2-88fb-dd35f59eea3e"
      },
      "execution_count": 49,
      "outputs": [
        {
          "output_type": "stream",
          "name": "stdout",
          "text": [
            "1/1 [==============================] - 0s 65ms/step\n"
          ]
        },
        {
          "output_type": "execute_result",
          "data": {
            "text/plain": [
              "array([[18.635426]], dtype=float32)"
            ]
          },
          "metadata": {},
          "execution_count": 49
        }
      ]
    },
    {
      "cell_type": "code",
      "source": [
        "X = tf.range(-200, 200, 4)\n",
        "y = X + 10"
      ],
      "metadata": {
        "id": "AlzHfgQibBbv"
      },
      "execution_count": 51,
      "outputs": []
    },
    {
      "cell_type": "code",
      "source": [
        "import matplotlib.pyplot as plt\n",
        "plt.scatter(X,y)"
      ],
      "metadata": {
        "colab": {
          "base_uri": "https://localhost:8080/",
          "height": 282
        },
        "id": "hrasDneVhcHo",
        "outputId": "b9cb0dfa-d159-42d4-fce7-0ad894144410"
      },
      "execution_count": 52,
      "outputs": [
        {
          "output_type": "execute_result",
          "data": {
            "text/plain": [
              "<matplotlib.collections.PathCollection at 0x7f11c00fca60>"
            ]
          },
          "metadata": {},
          "execution_count": 52
        },
        {
          "output_type": "display_data",
          "data": {
            "text/plain": [
              "<Figure size 432x288 with 1 Axes>"
            ],
            "image/png": "[encoded data removed]"
          },
          "metadata": {
            "needs_background": "light"
          }
        }
      ]
    },
    {
      "cell_type": "code",
      "source": [],
      "metadata": {
        "id": "zsJcRoZLhqnU"
      },
      "execution_count": null,
      "outputs": []
    }
  ]
}